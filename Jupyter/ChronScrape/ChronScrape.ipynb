{
 "cells": [
  {
   "cell_type": "markdown",
   "metadata": {},
   "source": [
    "# Houston Chronicle Scrape\n",
    "This is my attempt to learn how to scrape the Houston Chronicle for news articles.\n",
    "\n",
    "## Setup\n",
    "Start out by importing the necessary packages."
   ]
  },
  {
   "cell_type": "code",
   "execution_count": 3,
   "metadata": {},
   "outputs": [],
   "source": [
    "from bs4 import BeautifulSoup\n",
    "import pandas as pd\n",
    "import re\n",
    "import urllib"
   ]
  },
  {
   "cell_type": "markdown",
   "metadata": {},
   "source": [
    "## Define a remove duplicates function for later use"
   ]
  },
  {
   "cell_type": "code",
   "execution_count": 4,
   "metadata": {},
   "outputs": [],
   "source": [
    "def remove_duplicates(li):\n",
    "    my_set = set()\n",
    "    res = []\n",
    "    for e in li:\n",
    "        if e not in my_set:\n",
    "            res.append(e)\n",
    "            my_set.add(e)\n",
    "    #\n",
    "    return res"
   ]
  },
  {
   "cell_type": "markdown",
   "metadata": {},
   "source": [
    "## Fetch the Real Estate Section of the Houston Chronicle"
   ]
  },
  {
   "cell_type": "code",
   "execution_count": 5,
   "metadata": {},
   "outputs": [],
   "source": [
    "r = urllib.urlopen('http://www.houstonchronicle.com/business/real-estate/')\n",
    "soup = BeautifulSoup(r,'lxml')\n",
    "# print soup.prettify()"
   ]
  },
  {
   "cell_type": "markdown",
   "metadata": {},
   "source": [
    "## Identify the links\n",
    "Look for the links to the articles on this page by finding the headline tag"
   ]
  },
  {
   "cell_type": "code",
   "execution_count": 6,
   "metadata": {},
   "outputs": [],
   "source": [
    "headlines = soup.select(\".headline > a\")"
   ]
  },
  {
   "cell_type": "markdown",
   "metadata": {},
   "source": [
    "Now we can use this list of headlines and pick out the links"
   ]
  },
  {
   "cell_type": "code",
   "execution_count": 7,
   "metadata": {},
   "outputs": [],
   "source": [
    "articles=[]\n",
    "for link in headlines: \n",
    "    articles.append('http://www.houstonchronicle.com/business/real-estate'+link.get('href'))"
   ]
  },
  {
   "cell_type": "markdown",
   "metadata": {},
   "source": [
    "Now we have a list of links to loop through. The next step is to remove duplicates."
   ]
  },
  {
   "cell_type": "code",
   "execution_count": 8,
   "metadata": {},
   "outputs": [],
   "source": [
    "articles = remove_duplicates(articles)"
   ]
  },
  {
   "cell_type": "code",
   "execution_count": 9,
   "metadata": {},
   "outputs": [],
   "source": [
    "# for i in articles: print(i)"
   ]
  },
  {
   "cell_type": "markdown",
   "metadata": {},
   "source": [
    "## Parse the pages to find article text"
   ]
  },
  {
   "cell_type": "code",
   "execution_count": 13,
   "metadata": {},
   "outputs": [
    {
     "name": "stdout",
     "output_type": "stream",
     "text": [
      "By Katherine Feser\n",
      "Caption\n",
      "Close\n",
      "Kinokuniya, a Japanese-based book store with 12 locations in the U.S., has signed up for 4,000 square feet in Katy for its first store in the Houston market. The store, along with 85C° Bakery Café and Kula Revolving Sushi Bar, will be part of NewQuest Properties' second phase of the Cinemark-anchored Katy Grand retail center at the northeast corner of the Grand Parkway and the Katy Freeway. The new phase, on 6.4 acres, will add two buildings totaling 36,000 square feet this fall.\n",
      "Dave & Busters has signed on as an anchor tenant in Dallas-based Sam Moon Group's 175,000-square-foot Metropark Square development near The Woodlands. Dave & Busters, a food/drink/entertainment venue with three area locations, has signed a 15-year, 40,000-square-foot lease for a location to open in early 2019, Sam Moon Group said.\n",
      "Metropark Square, on 70 acres at Interstate 45 south of Texas 242/College Parkway in Shenandoah, will contain a 41,500-square-foot AMC Theatre on track to open in May, and restaurants and other retailers around a central pavilion.\n",
      "To read this article in one of Houston's most-spoken languages, click on the button below.\n",
      "\"We wanted to focus on tenants that would be Amazon or internet sales proof,\" said vice president Daniel Moon.\n",
      "The Retail Connection's David Fazio, Steve Lieberman and Jonathan Probst and MetroCommercial's Steve Niggeman represented Dave & Buster's. Steve Greenberg with The Retail Connection represented Sam Moon Group.\n",
      "Restaurants Fusion Eats and Green Lane Co. and Michael Saldana Salon will open in Greenway Plaza this spring, Parkway Property Investments said. Tom Havron with Newmark Knight Frank represented Parkway in the leases.\n",
      "Main Event Entertainment,a 50,000-square-foot entertainment center at 20945 Spring Creek Crossing in Humble, is back open after being rebuilt. The venue had been open for six months before being destroyed by Hurricane Harvey. The center has dining and drinks, 22 bowling lanes, laser tag, a gravity ropes course, billiards, shuffleboard and a video games gallery.\n",
      "Teriyaki Madness, a Denver-based Asian grill, opens its first Houston location at 13410 Briar Forest Sunday. Local entrepreneurs Anne Cao, Phu Vu and Phat Vu will operate the 1,400-square-foot restaurant, which seats 65.\n",
      "Texas Bay Credit Union has leased 3,667 square feet in The Shops at Aliana I at West Airport Boulevard and Westmoor Drive in Richmond. Gigi Gomel represented the landlord, Hunington Properties.\n",
      "Jackson Hewitt Tax Service has leased 1,050 square feet lease in the 290 & 34th Shopping Center. Matt McKinnerney represented the landlord, Hunington Properties.\n",
      "\n",
      "Reporter / Researcher, Houston Chronicle\n",
      "© 2017 Hearst Newspapers, LLC.\n"
     ]
    }
   ],
   "source": [
    "i = 1\n",
    "r = urllib.urlopen(articles[i])\n",
    "soup = BeautifulSoup(r,'lxml')\n",
    "for x in soup.find_all('p'): print(x.get_text())"
   ]
  },
  {
   "cell_type": "code",
   "execution_count": 14,
   "metadata": {},
   "outputs": [
    {
     "name": "stdout",
     "output_type": "stream",
     "text": [
      "[u'By Katherine Feser', u'Caption', u'Close', u\"Kinokuniya, a Japanese-based book store with 12 locations in the U.S., has signed up for 4,000 square feet in Katy for its first store in the Houston market. The store, along with 85C\\xb0 Bakery Caf\\xe9 and Kula Revolving Sushi Bar, will be part of NewQuest Properties' second phase of the Cinemark-anchored Katy Grand retail center at the northeast corner of the Grand Parkway and the Katy Freeway. The new phase, on 6.4 acres, will add two buildings totaling 36,000 square feet this fall.\", u\"Dave & Busters has signed on as an anchor tenant in Dallas-based Sam Moon Group's 175,000-square-foot Metropark Square development near The Woodlands. Dave & Busters, a food/drink/entertainment venue with three area locations, has signed a 15-year, 40,000-square-foot lease for a location to open in early 2019, Sam Moon Group said.\", u'Metropark Square, on 70 acres at Interstate 45 south of Texas 242/College Parkway in Shenandoah, will contain a 41,500-square-foot AMC Theatre on track to open in May, and restaurants and other retailers around a central pavilion.', u\"To read this article in one of Houston's most-spoken languages, click on the button below.\", u'\"We wanted to focus on tenants that would be Amazon or internet sales proof,\" said vice president Daniel Moon.', u\"The Retail Connection's David Fazio, Steve Lieberman and Jonathan Probst and MetroCommercial's Steve Niggeman represented Dave & Buster's. Steve Greenberg with The Retail Connection represented Sam Moon Group.\", u'Restaurants Fusion Eats and Green Lane Co. and Michael Saldana Salon will open in Greenway Plaza this spring, Parkway Property Investments said. Tom Havron with Newmark Knight Frank represented Parkway in the leases.', u'Main Event Entertainment,a 50,000-square-foot entertainment center at 20945 Spring Creek Crossing in Humble, is back open after being rebuilt. The venue had been open for six months before being destroyed by Hurricane Harvey. The center has dining and drinks, 22 bowling lanes, laser tag, a gravity ropes course, billiards, shuffleboard and a video games gallery.', u'Teriyaki Madness, a Denver-based Asian grill, opens its first Houston location at 13410 Briar Forest Sunday. Local entrepreneurs Anne Cao, Phu Vu and Phat Vu will operate the 1,400-square-foot restaurant, which seats 65.', u'Texas Bay Credit Union has leased 3,667 square feet in The Shops at Aliana I at West Airport Boulevard and Westmoor Drive in Richmond. Gigi Gomel represented the landlord, Hunington Properties.', u'Jackson Hewitt Tax Service has leased 1,050 square feet lease in the 290 & 34th Shopping Center. Matt McKinnerney represented the landlord, Hunington Properties.', u'', u'Reporter / Researcher, Houston Chronicle', u'\\xa9 2017 Hearst Newspapers, LLC.']\n"
     ]
    }
   ],
   "source": [
    "words = []\n",
    "for x in soup.find_all('p'): words.append(x.get_text())\n",
    "print(words)"
   ]
  },
  {
   "cell_type": "code",
   "execution_count": 15,
   "metadata": {},
   "outputs": [
    {
     "name": "stdout",
     "output_type": "stream",
     "text": [
      "http://www.houstonchronicle.com/business/real-estate/business/real-estate/article/Retail-wrap-Japan-based-Kinokuniya-plans-first-12543626.php\n"
     ]
    }
   ],
   "source": [
    "print(articles[i])"
   ]
  }
 ],
 "metadata": {
  "kernelspec": {
   "display_name": "Python 2",
   "language": "python",
   "name": "python2"
  },
  "language_info": {
   "codemirror_mode": {
    "name": "ipython",
    "version": 2
   },
   "file_extension": ".py",
   "mimetype": "text/x-python",
   "name": "python",
   "nbconvert_exporter": "python",
   "pygments_lexer": "ipython2",
   "version": "2.7.13"
  }
 },
 "nbformat": 4,
 "nbformat_minor": 2
}
