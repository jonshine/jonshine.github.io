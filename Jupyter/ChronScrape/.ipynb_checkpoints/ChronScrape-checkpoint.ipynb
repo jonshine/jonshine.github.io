{
 "cells": [
  {
   "cell_type": "markdown",
   "metadata": {},
   "source": [
    "# Houston Chronicle Scrape\n",
    "This is my attempt to learn how to scrape the Houston Chronicle for news articles.\n",
    "\n",
    "## Setup\n",
    "Start out by importing the necessary packages."
   ]
  },
  {
   "cell_type": "code",
   "execution_count": 16,
   "metadata": {},
   "outputs": [],
   "source": [
    "from bs4 import BeautifulSoup\n",
    "import pandas as pd\n",
    "import re\n",
    "import urllib"
   ]
  },
  {
   "cell_type": "markdown",
   "metadata": {},
   "source": [
    "## Define a remove duplicates function for later use"
   ]
  },
  {
   "cell_type": "code",
   "execution_count": 17,
   "metadata": {},
   "outputs": [],
   "source": [
    "def remove_duplicates(li):\n",
    "    my_set = set()\n",
    "    res = []\n",
    "    for e in li:\n",
    "        if e not in my_set:\n",
    "            res.append(e)\n",
    "            my_set.add(e)\n",
    "    #\n",
    "    return res"
   ]
  },
  {
   "cell_type": "markdown",
   "metadata": {},
   "source": [
    "## Fetch the Real Estate Section of the Houston Chronicle"
   ]
  },
  {
   "cell_type": "code",
   "execution_count": 18,
   "metadata": {},
   "outputs": [],
   "source": [
    "r = urllib.urlopen('http://www.houstonchronicle.com/business/real-estate/')\n",
    "soup = BeautifulSoup(r,'lxml')\n",
    "# print soup.prettify()"
   ]
  },
  {
   "cell_type": "markdown",
   "metadata": {},
   "source": [
    "## Identify the links\n",
    "Look for the links to the articles on this page by finding the headline tag"
   ]
  },
  {
   "cell_type": "code",
   "execution_count": 19,
   "metadata": {},
   "outputs": [],
   "source": [
    "headlines = soup.select(\".headline > a\")"
   ]
  },
  {
   "cell_type": "markdown",
   "metadata": {},
   "source": [
    "Now we can use this list of headlines and pick out the links"
   ]
  },
  {
   "cell_type": "code",
   "execution_count": 20,
   "metadata": {},
   "outputs": [],
   "source": [
    "articles=[]\n",
    "for link in headlines: \n",
    "    articles.append('http://www.houstonchronicle.com/business/real-estate'+link.get('href'))"
   ]
  },
  {
   "cell_type": "markdown",
   "metadata": {},
   "source": [
    "Now we have a list of links to loop through. The next step is to remove duplicates."
   ]
  },
  {
   "cell_type": "code",
   "execution_count": 21,
   "metadata": {},
   "outputs": [],
   "source": [
    "articles = remove_duplicates(articles)"
   ]
  },
  {
   "cell_type": "code",
   "execution_count": 22,
   "metadata": {},
   "outputs": [],
   "source": [
    "# for i in articles: print(i)"
   ]
  },
  {
   "cell_type": "markdown",
   "metadata": {},
   "source": [
    "## Parse the pages to find article text"
   ]
  },
  {
   "cell_type": "code",
   "execution_count": 32,
   "metadata": {},
   "outputs": [
    {
     "name": "stdout",
     "output_type": "stream",
     "text": [
      "By Katherine Feser\n",
      "DrillChem Drilling Solutions has leased 5,500 square feet at 8701 New Trails in The Woodlands, the firm's real estate broker announced.\n",
      "Newcor Commercial Real Estate's Ryan Dierker and Rob Banzhaf of represented DrillChem in the lease.\n",
      "RELATED: Commercial real estate briefs\n",
      "\"DrillChem was able to efficiently upgrade their office, while also being able to consolidate their lab space so that all of their headquarters could be based out of one location,\" Dierker said in an announcement.\n",
      "Debbie Sheets of Vista Cos. represented the landlord, Vista Woodlands Partners.\n",
      "To read this article in one of Houston's most-spoken languages, click on the button below.\n",
      "Reporter / Researcher, Houston Chronicle\n",
      "© 2017 Hearst Newspapers, LLC.\n"
     ]
    }
   ],
   "source": [
    "i = 11\n",
    "r = urllib.urlopen(articles[i])\n",
    "soup = BeautifulSoup(r,'lxml')\n",
    "words = []\n",
    "for x in soup.find_all('p'): print(x.get_text())"
   ]
  },
  {
   "cell_type": "code",
   "execution_count": 25,
   "metadata": {},
   "outputs": [],
   "source": [
    "# words = []\n",
    "# for x in soup.find_all('p'): words.append(x.get_text())\n",
    "# print(words)"
   ]
  },
  {
   "cell_type": "code",
   "execution_count": 33,
   "metadata": {},
   "outputs": [
    {
     "name": "stdout",
     "output_type": "stream",
     "text": [
      "http://www.houstonchronicle.com/business/real-estate/business/real-estate/article/DrillChem-Drilling-Solutions-inks-office-lease-in-12533414.php\n"
     ]
    }
   ],
   "source": [
    "print(articles[i])"
   ]
  }
 ],
 "metadata": {
  "kernelspec": {
   "display_name": "Python 2",
   "language": "python",
   "name": "python2"
  },
  "language_info": {
   "codemirror_mode": {
    "name": "ipython",
    "version": 2
   },
   "file_extension": ".py",
   "mimetype": "text/x-python",
   "name": "python",
   "nbconvert_exporter": "python",
   "pygments_lexer": "ipython2",
   "version": "2.7.13"
  }
 },
 "nbformat": 4,
 "nbformat_minor": 2
}
